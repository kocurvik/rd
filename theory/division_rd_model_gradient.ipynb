{
 "cells": [
  {
   "cell_type": "code",
   "execution_count": 1,
   "id": "050b41b3",
   "metadata": {
    "is_executing": true
   },
   "outputs": [],
   "source": [
    "import sympy as sp\n",
    "import numpy as np\n",
    "from IPython.display import display"
   ]
  },
  {
   "cell_type": "code",
   "execution_count": 2,
   "id": "b71d5841",
   "metadata": {
    "is_executing": true
   },
   "outputs": [
    {
     "name": "stdout",
     "output_type": "stream",
     "text": [
      "Num diff: \n"
     ]
    },
    {
     "data": {
      "text/latex": [
       "$\\displaystyle \\left[\\begin{matrix}x_{1} x_{2}\\end{matrix}\\right]$"
      ],
      "text/plain": [
       "Matrix([[x_1*x_2]])"
      ]
     },
     "metadata": {},
     "output_type": "display_data"
    },
    {
     "data": {
      "text/latex": [
       "$\\displaystyle \\left[\\begin{matrix}x_{1} y_{2}\\end{matrix}\\right]$"
      ],
      "text/plain": [
       "Matrix([[x_1*y_2]])"
      ]
     },
     "metadata": {},
     "output_type": "display_data"
    },
    {
     "data": {
      "text/latex": [
       "$\\displaystyle \\left[\\begin{matrix}x_{1} \\left(k \\left(x_{2}^{2} + y_{2}^{2}\\right) + 1\\right)\\end{matrix}\\right]$"
      ],
      "text/plain": [
       "Matrix([[x_1*(k*(x_2**2 + y_2**2) + 1)]])"
      ]
     },
     "metadata": {},
     "output_type": "display_data"
    },
    {
     "data": {
      "text/latex": [
       "$\\displaystyle \\left[\\begin{matrix}x_{2} y_{1}\\end{matrix}\\right]$"
      ],
      "text/plain": [
       "Matrix([[x_2*y_1]])"
      ]
     },
     "metadata": {},
     "output_type": "display_data"
    },
    {
     "data": {
      "text/latex": [
       "$\\displaystyle \\left[\\begin{matrix}y_{1} y_{2}\\end{matrix}\\right]$"
      ],
      "text/plain": [
       "Matrix([[y_1*y_2]])"
      ]
     },
     "metadata": {},
     "output_type": "display_data"
    },
    {
     "data": {
      "text/latex": [
       "$\\displaystyle \\left[\\begin{matrix}y_{1} \\left(k \\left(x_{2}^{2} + y_{2}^{2}\\right) + 1\\right)\\end{matrix}\\right]$"
      ],
      "text/plain": [
       "Matrix([[y_1*(k*(x_2**2 + y_2**2) + 1)]])"
      ]
     },
     "metadata": {},
     "output_type": "display_data"
    },
    {
     "data": {
      "text/latex": [
       "$\\displaystyle \\left[\\begin{matrix}x_{2} \\left(k \\left(x_{1}^{2} + y_{1}^{2}\\right) + 1\\right)\\end{matrix}\\right]$"
      ],
      "text/plain": [
       "Matrix([[x_2*(k*(x_1**2 + y_1**2) + 1)]])"
      ]
     },
     "metadata": {},
     "output_type": "display_data"
    },
    {
     "data": {
      "text/latex": [
       "$\\displaystyle \\left[\\begin{matrix}y_{2} \\left(k \\left(x_{1}^{2} + y_{1}^{2}\\right) + 1\\right)\\end{matrix}\\right]$"
      ],
      "text/plain": [
       "Matrix([[y_2*(k*(x_1**2 + y_1**2) + 1)]])"
      ]
     },
     "metadata": {},
     "output_type": "display_data"
    },
    {
     "data": {
      "text/latex": [
       "$\\displaystyle \\left[\\begin{matrix}\\left(k \\left(x_{1}^{2} + y_{1}^{2}\\right) + 1\\right) \\left(k \\left(x_{2}^{2} + y_{2}^{2}\\right) + 1\\right)\\end{matrix}\\right]$"
      ],
      "text/plain": [
       "Matrix([[(k*(x_1**2 + y_1**2) + 1)*(k*(x_2**2 + y_2**2) + 1)]])"
      ]
     },
     "metadata": {},
     "output_type": "display_data"
    },
    {
     "data": {
      "text/latex": [
       "$\\displaystyle \\left|{\\left(F_{0, 0} J_{0, 0} + F_{0, 1} J_{1, 0} + F_{0, 2} J_{2, 0}\\right) d_{0, 0} + \\left(F_{1, 0} J_{0, 0} + F_{1, 1} J_{1, 0} + F_{1, 2} J_{2, 0}\\right) d_{1, 0} + \\left(F_{2, 0} J_{0, 0} + F_{2, 1} J_{1, 0} + F_{2, 2} J_{2, 0}\\right) d_{2, 0}}\\right|^{2} + \\left|{\\left(F_{0, 0} J_{0, 1} + F_{0, 1} J_{1, 1} + F_{0, 2} J_{2, 1}\\right) d_{0, 0} + \\left(F_{1, 0} J_{0, 1} + F_{1, 1} J_{1, 1} + F_{1, 2} J_{2, 1}\\right) d_{1, 0} + \\left(F_{2, 0} J_{0, 1} + F_{2, 1} J_{1, 1} + F_{2, 2} J_{2, 1}\\right) d_{2, 0}}\\right|^{2}$"
      ],
      "text/plain": [
       "Abs((F[0, 0]*J[0, 0] + F[0, 1]*J[1, 0] + F[0, 2]*J[2, 0])*d[0, 0] + (F[1, 0]*J[0, 0] + F[1, 1]*J[1, 0] + F[1, 2]*J[2, 0])*d[1, 0] + (F[2, 0]*J[0, 0] + F[2, 1]*J[1, 0] + F[2, 2]*J[2, 0])*d[2, 0])**2 + Abs((F[0, 0]*J[0, 1] + F[0, 1]*J[1, 1] + F[0, 2]*J[2, 1])*d[0, 0] + (F[1, 0]*J[0, 1] + F[1, 1]*J[1, 1] + F[1, 2]*J[2, 1])*d[1, 0] + (F[2, 0]*J[0, 1] + F[2, 1]*J[1, 1] + F[2, 2]*J[2, 1])*d[2, 0])**2"
      ]
     },
     "metadata": {},
     "output_type": "display_data"
    }
   ],
   "source": [
    "k = sp.symbols('k', real=True)\n",
    "\n",
    "x_1, x_2, y_1, y_2 = sp.symbols('x_1, x_2, y_1, y_2', real=True)\n",
    "\n",
    "u_1 = x_1 / (1 + k * (x_1 ** 2 + x_2 ** 2))\n",
    "u_2 = x_2 / (1 + k * (x_1 ** 2 + x_2 ** 2))\n",
    "\n",
    "d_1 = sp.ImmutableDenseMatrix([x_1, y_1, 1 + k * (x_1 ** 2 + y_1 ** 2)])\n",
    "d_2 = sp.ImmutableDenseMatrix([x_2, y_2, 1 + k * (x_2 ** 2 + y_2 ** 2)])\n",
    "\n",
    "# d_1 = sp.ImmutableDenseMatrix([x_1, y_1, 1])\n",
    "# d_2 = sp.ImmutableDenseMatrix([x_2, y_2, 1])\n",
    "\n",
    "h_1 = d_1 / d_1.norm()\n",
    "h_2 = d_2 / d_2.norm()\n",
    "\n",
    "\n",
    "J_1 = (sp.eye(3) - h_1 * h_1.transpose()) * sp.ImmutableDenseMatrix([[1, 0],[0, 1], [2 * k * x_1, 2 * k * y_1]]) / d_1.norm()\n",
    "J_2 = (sp.eye(3) - h_2 * h_2.transpose()) * sp.ImmutableDenseMatrix([[1, 0],[0, 1], [2 * k * x_2, 2 * k * y_2]]) / d_2.norm()\n",
    "\n",
    "#K_inv = sp.diag(1/f, 1/f, 1)\n",
    "\n",
    "F = sp.MatrixSymbol('F', 3, 3)\n",
    "# FF = F\n",
    "FF = sp.Matrix(F)\n",
    "# F_11, F_12, F_13, F_21, F_22, F_23, F_31, F_32, F_33 = sp.symbols('F_11, F_12, F_13, F_21, F_22, F_23, F_31, F_32, F_33', real=True)\n",
    "# FF = sp.ImmutableDenseMatrix([[F_11, F_12, F_13], [F_21, F_22, F_23], [F_31, F_32, F_33]])\n",
    "\n",
    "\n",
    "num = d_2.transpose() * (FF * d_1)\n",
    "\n",
    "print(\"Num diff: \")\n",
    "for col in range(3):\n",
    "    for row in range(3):\n",
    "        display(sp.diff(num, F[row, col]))\n",
    "        \n",
    "den = sp.sqrt((d_2.transpose() * (FF * J_1)).norm() + (d_1.transpose() * (FF.transpose() * J_2)).norm())\n",
    "\n",
    "D = sp.MatrixSymbol('d', 3, 1)\n",
    "DD = sp.Matrix(D, real=True)\n",
    "J = sp.MatrixSymbol('J', 3, 2)\n",
    "JJ = sp.Matrix(J, real=True)\n",
    "\n",
    "exp = (DD.transpose() * (FF * JJ)).norm() ** 2\n",
    "# exp = (DD.transpose() * (FF.transpose() * JJ))\n",
    "\n",
    "display(exp)"
   ]
  },
  {
   "cell_type": "code",
   "execution_count": 3,
   "id": "e58fd2e6",
   "metadata": {
    "ExecuteTime": {
     "end_time": "2024-05-06T18:24:13.788455500Z",
     "start_time": "2024-05-06T18:24:13.744328500Z"
    }
   },
   "outputs": [
    {
     "data": {
      "text/latex": [
       "$\\displaystyle \\left[\\begin{matrix}0\\\\0\\\\x_{1}^{2} + y_{1}^{2}\\end{matrix}\\right]$"
      ],
      "text/plain": [
       "Matrix([\n",
       "[              0],\n",
       "[              0],\n",
       "[x_1**2 + y_1**2]])"
      ]
     },
     "metadata": {},
     "output_type": "display_data"
    },
    {
     "data": {
      "text/latex": [
       "$\\displaystyle \\left[\\begin{matrix}0\\\\0\\\\x_{2}^{2} + y_{2}^{2}\\end{matrix}\\right]$"
      ],
      "text/plain": [
       "Matrix([\n",
       "[              0],\n",
       "[              0],\n",
       "[x_2**2 + y_2**2]])"
      ]
     },
     "metadata": {},
     "output_type": "display_data"
    },
    {
     "data": {
      "text/latex": [
       "$\\displaystyle \\left[\\begin{matrix}\\left(x_{2}^{2} + y_{2}^{2}\\right) \\left(x_{1} F_{2, 0} + y_{1} F_{2, 1} + \\left(k \\left(x_{1}^{2} + y_{1}^{2}\\right) + 1\\right) F_{2, 2}\\right)\\end{matrix}\\right]$"
      ],
      "text/plain": [
       "Matrix([[(x_2**2 + y_2**2)*(x_1*F[2, 0] + y_1*F[2, 1] + (k*(x_1**2 + y_1**2) + 1)*F[2, 2])]])"
      ]
     },
     "metadata": {},
     "output_type": "display_data"
    },
    {
     "data": {
      "text/latex": [
       "$\\displaystyle \\left[\\begin{matrix}\\left(x_{1}^{2} + y_{1}^{2}\\right) \\left(x_{2} F_{0, 2} + y_{2} F_{1, 2} + \\left(k \\left(x_{2}^{2} + y_{2}^{2}\\right) + 1\\right) F_{2, 2}\\right)\\end{matrix}\\right]$"
      ],
      "text/plain": [
       "Matrix([[(x_1**2 + y_1**2)*(x_2*F[0, 2] + y_2*F[1, 2] + (k*(x_2**2 + y_2**2) + 1)*F[2, 2])]])"
      ]
     },
     "metadata": {},
     "output_type": "display_data"
    }
   ],
   "source": [
    "d_1dk = sp.diff(d_1, k)\n",
    "d_2dk = sp.diff(d_2, k)\n",
    "\n",
    "display(d_1dk)\n",
    "display(d_2dk)\n",
    "\n",
    "display(d_2dk.transpose() * (FF * d_1))\n",
    "\n",
    "display(d_1dk.transpose() * (FF.transpose() * d_2))"
   ]
  },
  {
   "cell_type": "code",
   "execution_count": 4,
   "id": "311f309e",
   "metadata": {},
   "outputs": [
    {
     "data": {
      "text/latex": [
       "$\\displaystyle \\left[\\begin{matrix}\\left(x_{2}^{2} + y_{2}^{2}\\right) \\left(F_{2, 0} J_{0, 0} + F_{2, 1} J_{1, 0} + F_{2, 2} J_{2, 0}\\right) & \\left(x_{2}^{2} + y_{2}^{2}\\right) \\left(F_{2, 0} J_{0, 1} + F_{2, 1} J_{1, 1} + F_{2, 2} J_{2, 1}\\right)\\end{matrix}\\right]$"
      ],
      "text/plain": [
       "Matrix([[(x_2**2 + y_2**2)*(F[2, 0]*J[0, 0] + F[2, 1]*J[1, 0] + F[2, 2]*J[2, 0]), (x_2**2 + y_2**2)*(F[2, 0]*J[0, 1] + F[2, 1]*J[1, 1] + F[2, 2]*J[2, 1])]])"
      ]
     },
     "metadata": {},
     "output_type": "display_data"
    }
   ],
   "source": [
    "display(d_2dk.transpose() * (FF * JJ))"
   ]
  },
  {
   "cell_type": "code",
   "execution_count": 5,
   "id": "36d0cbd6",
   "metadata": {},
   "outputs": [
    {
     "name": "stdout",
     "output_type": "stream",
     "text": [
      "Matrix([[d1(0)], [d1(1)], [k*(d1(0)**2 + d1(1)**2) + 1]])\n",
      "0 0\n"
     ]
    },
    {
     "data": {
      "text/latex": [
       "$\\displaystyle \\frac{3 d1(2) x_{1 sq} \\left(2 d1(0)^{2} d1(2) k + d1(0)^{2} - s_{1}\\right) - 2 s_{1} \\left(d1(0)^{2} d1(2) + d1(0)^{2} k x_{1 sq} - d1(2) x_{1 sq}\\right)}{s_{1}^{\\frac{5}{2}}}$"
      ],
      "text/plain": [
       "(3*d1(2)*x1_sq*(2*d1(0)**2*d1(2)*k + d1(0)**2 - s1) - 2*s1*(d1(0)**2*d1(2) + d1(0)**2*k*x1_sq - d1(2)*x1_sq))/s1**(5/2)"
      ]
     },
     "metadata": {},
     "output_type": "display_data"
    },
    {
     "name": "stdout",
     "output_type": "stream",
     "text": [
      "(3*d1(2)*x1_sq*(2*d1(0)**2*d1(2)*k + d1(0)**2 - s1) - 2*s1*(d1(0)**2*d1(2) + d1(0)**2*k*x1_sq - d1(2)*x1_sq))/s1**(5/2)\n",
      "0 1\n"
     ]
    },
    {
     "data": {
      "text/latex": [
       "$\\displaystyle \\frac{d1(0) d1(1) \\left(3 d1(2) x_{1 sq} \\left(2 d1(2) k + 1\\right) - 2 s_{1} \\cdot \\left(2 k x_{1 sq} + 1\\right)\\right)}{s_{1}^{\\frac{5}{2}}}$"
      ],
      "text/plain": [
       "d1(0)*d1(1)*(3*d1(2)*x1_sq*(2*d1(2)*k + 1) - 2*s1*(2*k*x1_sq + 1))/s1**(5/2)"
      ]
     },
     "metadata": {},
     "output_type": "display_data"
    },
    {
     "name": "stdout",
     "output_type": "stream",
     "text": [
      "d1(0)*d1(1)*(3*d1(2)*x1_sq*(2*d1(2)*k + 1) - 2*s1*(2*k*x1_sq + 1))/s1**(5/2)\n",
      "1 0\n"
     ]
    },
    {
     "data": {
      "text/latex": [
       "$\\displaystyle \\frac{d1(0) d1(1) \\left(3 d1(2) x_{1 sq} \\left(2 d1(2) k + 1\\right) - 2 s_{1} \\cdot \\left(2 k x_{1 sq} + 1\\right)\\right)}{s_{1}^{\\frac{5}{2}}}$"
      ],
      "text/plain": [
       "d1(0)*d1(1)*(3*d1(2)*x1_sq*(2*d1(2)*k + 1) - 2*s1*(2*k*x1_sq + 1))/s1**(5/2)"
      ]
     },
     "metadata": {},
     "output_type": "display_data"
    },
    {
     "name": "stdout",
     "output_type": "stream",
     "text": [
      "d1(0)*d1(1)*(3*d1(2)*x1_sq*(2*d1(2)*k + 1) - 2*s1*(2*k*x1_sq + 1))/s1**(5/2)\n",
      "1 1\n"
     ]
    },
    {
     "data": {
      "text/latex": [
       "$\\displaystyle \\frac{3 d1(2) x_{1 sq} \\left(2 d1(1)^{2} d1(2) k + d1(1)^{2} - s_{1}\\right) - 2 s_{1} \\left(d1(1)^{2} d1(2) + d1(1)^{2} k x_{1 sq} - d1(2) x_{1 sq}\\right)}{s_{1}^{\\frac{5}{2}}}$"
      ],
      "text/plain": [
       "(3*d1(2)*x1_sq*(2*d1(1)**2*d1(2)*k + d1(1)**2 - s1) - 2*s1*(d1(1)**2*d1(2) + d1(1)**2*k*x1_sq - d1(2)*x1_sq))/s1**(5/2)"
      ]
     },
     "metadata": {},
     "output_type": "display_data"
    },
    {
     "name": "stdout",
     "output_type": "stream",
     "text": [
      "(3*d1(2)*x1_sq*(2*d1(1)**2*d1(2)*k + d1(1)**2 - s1) - 2*s1*(d1(1)**2*d1(2) + d1(1)**2*k*x1_sq - d1(2)*x1_sq))/s1**(5/2)\n",
      "2 0\n"
     ]
    },
    {
     "data": {
      "text/latex": [
       "$\\displaystyle - \\frac{d1(0) x_{1 sq} \\left(3 d1(2) \\left(d1(2) - 2\\right) - s_{1}\\right)}{s_{1}^{\\frac{5}{2}}}$"
      ],
      "text/plain": [
       "-d1(0)*x1_sq*(3*d1(2)*(d1(2) - 2) - s1)/s1**(5/2)"
      ]
     },
     "metadata": {},
     "output_type": "display_data"
    },
    {
     "name": "stdout",
     "output_type": "stream",
     "text": [
      "-d1(0)*x1_sq*(3*d1(2)*(d1(2) - 2) - s1)/s1**(5/2)\n",
      "2 1\n"
     ]
    },
    {
     "data": {
      "text/latex": [
       "$\\displaystyle - \\frac{d1(1) x_{1 sq} \\left(3 d1(2) \\left(d1(2) - 2\\right) - s_{1}\\right)}{s_{1}^{\\frac{5}{2}}}$"
      ],
      "text/plain": [
       "-d1(1)*x1_sq*(3*d1(2)*(d1(2) - 2) - s1)/s1**(5/2)"
      ]
     },
     "metadata": {},
     "output_type": "display_data"
    },
    {
     "name": "stdout",
     "output_type": "stream",
     "text": [
      "-d1(1)*x1_sq*(3*d1(2)*(d1(2) - 2) - s1)/s1**(5/2)\n"
     ]
    }
   ],
   "source": [
    "d1_2 = sp.symbols('d1(2)')\n",
    "d2_2 = sp.symbols('d2(2)')\n",
    "x1_sq = sp.symbols('x1_sq')\n",
    "x2_sq = sp.symbols('x2_sq')\n",
    "s1 = sp.symbols('s1')\n",
    "s2 = sp.symbols('s2')\n",
    "\n",
    "k = sp.symbols('k', real=True)\n",
    "x_1, x_2, y_1, y_2 = sp.symbols('d1(0), d2(0), d1(1), d2(1)', real=True)\n",
    "\n",
    "\n",
    "d_1 = sp.Matrix([x_1, y_1, 1 + k * (x_1 ** 2 + y_1 ** 2)])\n",
    "d_2 = sp.Matrix([x_2, y_2, 1 + k * (x_2 ** 2 + y_2 ** 2)])\n",
    "\n",
    "print(d_1)\n",
    "\n",
    "h_1 = d_1 / d_1.norm()\n",
    "h_2 = d_2 / d_2.norm()\n",
    "\n",
    "# h_1 = h_1.subs(x_1 ** 2 + y_1 ** 2, x1_sq)\n",
    "\n",
    "J_1 = (sp.eye(3) - h_1 * h_1.transpose()) * sp.Matrix([[1, 0],[0, 1], [2 * k * x_1, 2 * k * y_1]]) / d_1.norm()\n",
    "J_2 = (sp.eye(3) - h_2 * h_2.transpose()) * sp.Matrix([[1, 0],[0, 1], [2 * k * x_2, 2 * k * y_2]]) / d_2.norm()\n",
    "\n",
    "\n",
    "j = sp.simplify(J_1.subs(x_1**2 + y_1**2, x1_sq))\n",
    "# j = j.subs(1 + k * x1_sq, d1_2)\n",
    "# j = j.subs(d1_2 ** 2 + x1_sq, 's')\n",
    "# display(j)\n",
    "\n",
    "for row in range(3):\n",
    "    for col in range(2):\n",
    "        print(row, col)\n",
    "\n",
    "#         diff = sp.diff(J_1[row, col], k).simplify()\n",
    "        diff = sp.diff(j[row, col], k).simplify()\n",
    "        exp = diff.subs(x_1**2 + y_1**2, x1_sq)\n",
    "        exp = exp.subs(1 + k * x1_sq, d1_2)\n",
    "        exp = exp.subs(d1_2 ** 2 + x1_sq, s1)\n",
    "        \n",
    "        display(exp.simplify())\n",
    "        print(exp.simplify())\n",
    "#         print(diff.simplify())"
   ]
  },
  {
   "cell_type": "code",
   "execution_count": 6,
   "id": "6fde9694",
   "metadata": {},
   "outputs": [
    {
     "data": {
      "text/latex": [
       "$\\displaystyle \\left[\\begin{array}{cc}\\left(x_{2}^{2} + y_{2}^{2}\\right) F_{2, 0} J_{0, 0} + \\left(x_{2}^{2} + y_{2}^{2}\\right) F_{2, 1} J_{1, 0} + \\left(x_{2}^{2} + y_{2}^{2}\\right) F_{2, 2} J_{2, 0} & \\left(x_{2}^{2} + y_{2}^{2}\\right) F_{2, 0} J_{0, 1} + \\left(x_{2}^{2} + y_{2}^{2}\\right) F_{2, 1} J_{1, 1} + \\left(x_{2}^{2} + y_{2}^{2}\\right) F_{2, 2} J_{2, 1}\\end{array}\\right]$"
      ],
      "text/plain": [
       "Matrix([[(x_2**2 + y_2**2)*F[2, 0]*J[0, 0] + (x_2**2 + y_2**2)*F[2, 1]*J[1, 0] + (x_2**2 + y_2**2)*F[2, 2]*J[2, 0], (x_2**2 + y_2**2)*F[2, 0]*J[0, 1] + (x_2**2 + y_2**2)*F[2, 1]*J[1, 1] + (x_2**2 + y_2**2)*F[2, 2]*J[2, 1]]])"
      ]
     },
     "metadata": {},
     "output_type": "display_data"
    },
    {
     "data": {
      "text/latex": [
       "$\\displaystyle \\left[\\begin{array}{cc}\\left(x_{1}^{2} + y_{1}^{2}\\right) F_{0, 2} J_{0, 0} + \\left(x_{1}^{2} + y_{1}^{2}\\right) F_{1, 2} J_{1, 0} + \\left(x_{1}^{2} + y_{1}^{2}\\right) F_{2, 2} J_{2, 0} & \\left(x_{1}^{2} + y_{1}^{2}\\right) F_{0, 2} J_{0, 1} + \\left(x_{1}^{2} + y_{1}^{2}\\right) F_{1, 2} J_{1, 1} + \\left(x_{1}^{2} + y_{1}^{2}\\right) F_{2, 2} J_{2, 1}\\end{array}\\right]$"
      ],
      "text/plain": [
       "Matrix([[(x_1**2 + y_1**2)*F[0, 2]*J[0, 0] + (x_1**2 + y_1**2)*F[1, 2]*J[1, 0] + (x_1**2 + y_1**2)*F[2, 2]*J[2, 0], (x_1**2 + y_1**2)*F[0, 2]*J[0, 1] + (x_1**2 + y_1**2)*F[1, 2]*J[1, 1] + (x_1**2 + y_1**2)*F[2, 2]*J[2, 1]]])"
      ]
     },
     "metadata": {},
     "output_type": "display_data"
    }
   ],
   "source": [
    "exp = d_2dk.transpose() * FF * JJ\n",
    "display(exp)\n",
    "\n",
    "exp = d_1dk.transpose() * FF.transpose() * JJ\n",
    "display(exp)"
   ]
  },
  {
   "cell_type": "code",
   "execution_count": 12,
   "id": "e9e4bc4a",
   "metadata": {},
   "outputs": [
    {
     "name": "stdout",
     "output_type": "stream",
     "text": [
      "Matrix([[d1(0)], [d1(1)], [k1*(d1(0)**2 + d1(1)**2) + 1]])\n",
      "0 0\n"
     ]
    },
    {
     "data": {
      "text/latex": [
       "$\\displaystyle \\frac{3 d1(2) x_{1 sq} \\left(2 d1(0)^{2} d1(2) k_{1} + d1(0)^{2} - s_{1}\\right) - 2 s_{1} \\left(d1(0)^{2} d1(2) + d1(0)^{2} k_{1} x_{1 sq} - d1(2) x_{1 sq}\\right)}{s_{1}^{\\frac{5}{2}}}$"
      ],
      "text/plain": [
       "(3*d1(2)*x1_sq*(2*d1(0)**2*d1(2)*k1 + d1(0)**2 - s1) - 2*s1*(d1(0)**2*d1(2) + d1(0)**2*k1*x1_sq - d1(2)*x1_sq))/s1**(5/2)"
      ]
     },
     "metadata": {},
     "output_type": "display_data"
    },
    {
     "name": "stdout",
     "output_type": "stream",
     "text": [
      "(3*d1(2)*x1_sq*(2*d1(0)**2*d1(2)*k1 + d1(0)**2 - s1) - 2*s1*(d1(0)**2*d1(2) + d1(0)**2*k1*x1_sq - d1(2)*x1_sq))/s1**(5/2)\n",
      "0 1\n"
     ]
    },
    {
     "data": {
      "text/latex": [
       "$\\displaystyle \\frac{d1(0) d1(1) \\left(3 d1(2) x_{1 sq} \\left(2 d1(2) k_{1} + 1\\right) - 2 s_{1} \\cdot \\left(2 k_{1} x_{1 sq} + 1\\right)\\right)}{s_{1}^{\\frac{5}{2}}}$"
      ],
      "text/plain": [
       "d1(0)*d1(1)*(3*d1(2)*x1_sq*(2*d1(2)*k1 + 1) - 2*s1*(2*k1*x1_sq + 1))/s1**(5/2)"
      ]
     },
     "metadata": {},
     "output_type": "display_data"
    },
    {
     "name": "stdout",
     "output_type": "stream",
     "text": [
      "d1(0)*d1(1)*(3*d1(2)*x1_sq*(2*d1(2)*k1 + 1) - 2*s1*(2*k1*x1_sq + 1))/s1**(5/2)\n",
      "1 0\n"
     ]
    },
    {
     "data": {
      "text/latex": [
       "$\\displaystyle \\frac{d1(0) d1(1) \\left(3 d1(2) x_{1 sq} \\left(2 d1(2) k_{1} + 1\\right) - 2 s_{1} \\cdot \\left(2 k_{1} x_{1 sq} + 1\\right)\\right)}{s_{1}^{\\frac{5}{2}}}$"
      ],
      "text/plain": [
       "d1(0)*d1(1)*(3*d1(2)*x1_sq*(2*d1(2)*k1 + 1) - 2*s1*(2*k1*x1_sq + 1))/s1**(5/2)"
      ]
     },
     "metadata": {},
     "output_type": "display_data"
    },
    {
     "name": "stdout",
     "output_type": "stream",
     "text": [
      "d1(0)*d1(1)*(3*d1(2)*x1_sq*(2*d1(2)*k1 + 1) - 2*s1*(2*k1*x1_sq + 1))/s1**(5/2)\n",
      "1 1\n"
     ]
    },
    {
     "data": {
      "text/latex": [
       "$\\displaystyle \\frac{3 d1(2) x_{1 sq} \\left(2 d1(1)^{2} d1(2) k_{1} + d1(1)^{2} - s_{1}\\right) - 2 s_{1} \\left(d1(1)^{2} d1(2) + d1(1)^{2} k_{1} x_{1 sq} - d1(2) x_{1 sq}\\right)}{s_{1}^{\\frac{5}{2}}}$"
      ],
      "text/plain": [
       "(3*d1(2)*x1_sq*(2*d1(1)**2*d1(2)*k1 + d1(1)**2 - s1) - 2*s1*(d1(1)**2*d1(2) + d1(1)**2*k1*x1_sq - d1(2)*x1_sq))/s1**(5/2)"
      ]
     },
     "metadata": {},
     "output_type": "display_data"
    },
    {
     "name": "stdout",
     "output_type": "stream",
     "text": [
      "(3*d1(2)*x1_sq*(2*d1(1)**2*d1(2)*k1 + d1(1)**2 - s1) - 2*s1*(d1(1)**2*d1(2) + d1(1)**2*k1*x1_sq - d1(2)*x1_sq))/s1**(5/2)\n",
      "2 0\n"
     ]
    },
    {
     "data": {
      "text/latex": [
       "$\\displaystyle - \\frac{d1(0) x_{1 sq} \\left(3 d1(2) \\left(d1(2) - 2\\right) - s_{1}\\right)}{s_{1}^{\\frac{5}{2}}}$"
      ],
      "text/plain": [
       "-d1(0)*x1_sq*(3*d1(2)*(d1(2) - 2) - s1)/s1**(5/2)"
      ]
     },
     "metadata": {},
     "output_type": "display_data"
    },
    {
     "name": "stdout",
     "output_type": "stream",
     "text": [
      "-d1(0)*x1_sq*(3*d1(2)*(d1(2) - 2) - s1)/s1**(5/2)\n",
      "2 1\n"
     ]
    },
    {
     "data": {
      "text/latex": [
       "$\\displaystyle - \\frac{d1(1) x_{1 sq} \\left(3 d1(2) \\left(d1(2) - 2\\right) - s_{1}\\right)}{s_{1}^{\\frac{5}{2}}}$"
      ],
      "text/plain": [
       "-d1(1)*x1_sq*(3*d1(2)*(d1(2) - 2) - s1)/s1**(5/2)"
      ]
     },
     "metadata": {},
     "output_type": "display_data"
    },
    {
     "name": "stdout",
     "output_type": "stream",
     "text": [
      "-d1(1)*x1_sq*(3*d1(2)*(d1(2) - 2) - s1)/s1**(5/2)\n"
     ]
    }
   ],
   "source": [
    "\n",
    "d1_2 = sp.symbols('d1(2)')\n",
    "d2_2 = sp.symbols('d2(2)')\n",
    "x1_sq = sp.symbols('x1_sq')\n",
    "x2_sq = sp.symbols('x2_sq')\n",
    "s1 = sp.symbols('s1')\n",
    "s2 = sp.symbols('s2')\n",
    "\n",
    "k1, k2 = sp.symbols('k1, k2', real=True)\n",
    "x_1, x_2, y_1, y_2 = sp.symbols('d1(0), d2(0), d1(1), d2(1)', real=True)\n",
    "\n",
    "\n",
    "d_1 = sp.Matrix([x_1, y_1, 1 + k1 * (x_1 ** 2 + y_1 ** 2)])\n",
    "d_2 = sp.Matrix([x_2, y_2, 1 + k2 * (x_2 ** 2 + y_2 ** 2)])\n",
    "\n",
    "print(d_1)\n",
    "\n",
    "h_1 = d_1 / d_1.norm()\n",
    "h_2 = d_2 / d_2.norm()\n",
    "\n",
    "# h_1 = h_1.subs(x_1 ** 2 + y_1 ** 2, x1_sq)\n",
    "\n",
    "J_1 = (sp.eye(3) - h_1 * h_1.transpose()) * sp.Matrix([[1, 0],[0, 1], [2 * k1 * x_1, 2 * k1 * y_1]]) / d_1.norm()\n",
    "J_2 = (sp.eye(3) - h_2 * h_2.transpose()) * sp.Matrix([[1, 0],[0, 1], [2 * k2 * x_2, 2 * k2 * y_2]]) / d_2.norm()\n",
    "\n",
    "\n",
    "j = sp.simplify(J_1.subs(x_1**2 + y_1**2, x1_sq))\n",
    "# j = j.subs(1 + k * x1_sq, d1_2)\n",
    "# j = j.subs(d1_2 ** 2 + x1_sq, 's')\n",
    "# display(j)\n",
    "\n",
    "for row in range(3):\n",
    "    for col in range(2):\n",
    "        print(row, col)\n",
    "\n",
    "#         diff = sp.diff(J_1[row, col], k).simplify()\n",
    "        diff = sp.diff(j[row, col], k1).simplify()\n",
    "        exp = diff.subs(x_1**2 + y_1**2, x1_sq)\n",
    "        exp = exp.subs(1 + k1 * x1_sq, d1_2)\n",
    "        exp = exp.subs(1 + k2 * x2_sq, d2_2)\n",
    "        exp = exp.subs(d1_2 ** 2 + x1_sq, s1)\n",
    "        \n",
    "        display(exp.simplify())\n",
    "        print(exp.simplify())\n",
    "#         print(diff.simplify())"
   ]
  },
  {
   "cell_type": "code",
   "execution_count": null,
   "id": "8fa6a8a4",
   "metadata": {},
   "outputs": [],
   "source": []
  }
 ],
 "metadata": {
  "kernelspec": {
   "display_name": "Python 3 (ipykernel)",
   "language": "python",
   "name": "python3"
  },
  "language_info": {
   "codemirror_mode": {
    "name": "ipython",
    "version": 3
   },
   "file_extension": ".py",
   "mimetype": "text/x-python",
   "name": "python",
   "nbconvert_exporter": "python",
   "pygments_lexer": "ipython3",
   "version": "3.10.10"
  }
 },
 "nbformat": 4,
 "nbformat_minor": 5
}
