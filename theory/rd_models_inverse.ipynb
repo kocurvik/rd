{
 "cells": [
  {
   "cell_type": "code",
   "execution_count": 1,
   "metadata": {
    "collapsed": true,
    "ExecuteTime": {
     "end_time": "2024-05-06T18:24:57.544781400Z",
     "start_time": "2024-05-06T18:24:56.905941100Z"
    }
   },
   "outputs": [],
   "source": [
    "import sympy as sp\n",
    "import numpy as np\n",
    "from IPython.display import display"
   ]
  },
  {
   "cell_type": "code",
   "execution_count": 23,
   "outputs": [],
   "source": [
    "x_u, y_u, x, y, k = sp.symbols('x_u, y_u, x, y, k', real=True)\n",
    "\n",
    "d_sq = x**2 + y**2\n",
    "eq_x = x_u - x / (1 + k * d_sq)\n",
    "eq_y = y_u - y / (1 + k * d_sq)\n",
    "\n",
    "sols = sp.solve([eq_x, eq_y], [x, y], dict=True)"
   ],
   "metadata": {
    "collapsed": false,
    "ExecuteTime": {
     "end_time": "2024-05-06T18:49:40.463871700Z",
     "start_time": "2024-05-06T18:49:40.068455600Z"
    }
   }
  },
  {
   "cell_type": "code",
   "execution_count": 24,
   "outputs": [
    {
     "name": "stdout",
     "output_type": "stream",
     "text": [
      "2\n",
      "{x: x_u*(1 - sqrt(-4*k*x_u**2 - 4*k*y_u**2 + 1))/(2*k*(x_u**2 + y_u**2)), y: y_u*(1 - sqrt(-4*k*x_u**2 - 4*k*y_u**2 + 1))/(2*k*(x_u**2 + y_u**2))}\n",
      "{x: x_u*(sqrt(-4*k*x_u**2 - 4*k*y_u**2 + 1) + 1)/(2*k*(x_u**2 + y_u**2)), y: y_u*(sqrt(-4*k*x_u**2 - 4*k*y_u**2 + 1) + 1)/(2*k*(x_u**2 + y_u**2))}\n"
     ]
    }
   ],
   "source": [
    "print(len(sols))\n",
    "print(sols[0])\n",
    "print(sols[1])"
   ],
   "metadata": {
    "collapsed": false,
    "ExecuteTime": {
     "end_time": "2024-05-06T18:49:41.174485700Z",
     "start_time": "2024-05-06T18:49:41.151518700Z"
    }
   }
  },
  {
   "cell_type": "code",
   "execution_count": null,
   "outputs": [],
   "source": [],
   "metadata": {
    "collapsed": false
   }
  }
 ],
 "metadata": {
  "kernelspec": {
   "display_name": "Python 3",
   "language": "python",
   "name": "python3"
  },
  "language_info": {
   "codemirror_mode": {
    "name": "ipython",
    "version": 2
   },
   "file_extension": ".py",
   "mimetype": "text/x-python",
   "name": "python",
   "nbconvert_exporter": "python",
   "pygments_lexer": "ipython2",
   "version": "2.7.6"
  }
 },
 "nbformat": 4,
 "nbformat_minor": 0
}
